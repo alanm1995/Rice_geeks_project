{
 "cells": [
  {
   "cell_type": "code",
   "execution_count": 109,
   "metadata": {},
   "outputs": [],
   "source": [
    "import pandas as pd\n",
    "import numpy as np\n",
    "import datetime as dt\n",
    "from datetime import datetime\n",
    "import matplotlib as mpl\n",
    "from pathlib import Path\n",
    "from scipy import misc\n",
    "import matplotlib.pyplot as plt\n",
    "%matplotlib inline"
   ]
  },
  {
   "cell_type": "code",
   "execution_count": 110,
   "metadata": {},
   "outputs": [],
   "source": [
    "Clean_SSE_data_csv = Path(\"Rice_geeks_project/resources/SSE_Index_DATA.csv\")"
   ]
  },
  {
   "cell_type": "code",
   "execution_count": 111,
   "metadata": {},
   "outputs": [
    {
     "data": {
      "text/html": [
       "<div>\n",
       "<style scoped>\n",
       "    .dataframe tbody tr th:only-of-type {\n",
       "        vertical-align: middle;\n",
       "    }\n",
       "\n",
       "    .dataframe tbody tr th {\n",
       "        vertical-align: top;\n",
       "    }\n",
       "\n",
       "    .dataframe thead th {\n",
       "        text-align: right;\n",
       "    }\n",
       "</style>\n",
       "<table border=\"1\" class=\"dataframe\">\n",
       "  <thead>\n",
       "    <tr style=\"text-align: right;\">\n",
       "      <th></th>\n",
       "      <th>Open</th>\n",
       "      <th>High</th>\n",
       "      <th>Low</th>\n",
       "      <th>Close</th>\n",
       "      <th>Adj Close</th>\n",
       "      <th>Volume</th>\n",
       "    </tr>\n",
       "    <tr>\n",
       "      <th>Date</th>\n",
       "      <th></th>\n",
       "      <th></th>\n",
       "      <th></th>\n",
       "      <th></th>\n",
       "      <th></th>\n",
       "      <th></th>\n",
       "    </tr>\n",
       "  </thead>\n",
       "  <tbody>\n",
       "    <tr>\n",
       "      <td>2019-05-06</td>\n",
       "      <td>2984.727051</td>\n",
       "      <td>2986.540039</td>\n",
       "      <td>2876.468994</td>\n",
       "      <td>2906.464111</td>\n",
       "      <td>2906.464111</td>\n",
       "      <td>327000.0</td>\n",
       "    </tr>\n",
       "    <tr>\n",
       "      <td>2019-05-07</td>\n",
       "      <td>2914.291016</td>\n",
       "      <td>2937.282959</td>\n",
       "      <td>2889.072998</td>\n",
       "      <td>2926.391113</td>\n",
       "      <td>2926.391113</td>\n",
       "      <td>253300.0</td>\n",
       "    </tr>\n",
       "    <tr>\n",
       "      <td>2019-05-08</td>\n",
       "      <td>2873.143066</td>\n",
       "      <td>2929.430908</td>\n",
       "      <td>2866.704102</td>\n",
       "      <td>2893.757080</td>\n",
       "      <td>2893.757080</td>\n",
       "      <td>231500.0</td>\n",
       "    </tr>\n",
       "    <tr>\n",
       "      <td>2019-05-09</td>\n",
       "      <td>2871.197021</td>\n",
       "      <td>2888.860107</td>\n",
       "      <td>2845.037109</td>\n",
       "      <td>2850.954102</td>\n",
       "      <td>2850.954102</td>\n",
       "      <td>200000.0</td>\n",
       "    </tr>\n",
       "    <tr>\n",
       "      <td>2019-05-10</td>\n",
       "      <td>2878.233887</td>\n",
       "      <td>2941.454102</td>\n",
       "      <td>2838.385010</td>\n",
       "      <td>2939.210938</td>\n",
       "      <td>2939.210938</td>\n",
       "      <td>282300.0</td>\n",
       "    </tr>\n",
       "  </tbody>\n",
       "</table>\n",
       "</div>"
      ],
      "text/plain": [
       "                   Open         High          Low        Close    Adj Close  \\\n",
       "Date                                                                          \n",
       "2019-05-06  2984.727051  2986.540039  2876.468994  2906.464111  2906.464111   \n",
       "2019-05-07  2914.291016  2937.282959  2889.072998  2926.391113  2926.391113   \n",
       "2019-05-08  2873.143066  2929.430908  2866.704102  2893.757080  2893.757080   \n",
       "2019-05-09  2871.197021  2888.860107  2845.037109  2850.954102  2850.954102   \n",
       "2019-05-10  2878.233887  2941.454102  2838.385010  2939.210938  2939.210938   \n",
       "\n",
       "              Volume  \n",
       "Date                  \n",
       "2019-05-06  327000.0  \n",
       "2019-05-07  253300.0  \n",
       "2019-05-08  231500.0  \n",
       "2019-05-09  200000.0  \n",
       "2019-05-10  282300.0  "
      ]
     },
     "execution_count": 111,
     "metadata": {},
     "output_type": "execute_result"
    }
   ],
   "source": [
    "Clean_SSE_data = pd.read_csv(\n",
    "    Clean_SSE_data_csv, index_col= \"Date\", infer_datetime_format=True, parse_dates=True)\n",
    "Clean_SSE_data = Clean_SSE_data.sort_index()\n",
    "Clean_SSE_data.head()"
   ]
  },
  {
   "cell_type": "code",
   "execution_count": 112,
   "metadata": {},
   "outputs": [
    {
     "data": {
      "text/html": [
       "<div>\n",
       "<style scoped>\n",
       "    .dataframe tbody tr th:only-of-type {\n",
       "        vertical-align: middle;\n",
       "    }\n",
       "\n",
       "    .dataframe tbody tr th {\n",
       "        vertical-align: top;\n",
       "    }\n",
       "\n",
       "    .dataframe thead th {\n",
       "        text-align: right;\n",
       "    }\n",
       "</style>\n",
       "<table border=\"1\" class=\"dataframe\">\n",
       "  <thead>\n",
       "    <tr style=\"text-align: right;\">\n",
       "      <th></th>\n",
       "      <th>Open</th>\n",
       "      <th>High</th>\n",
       "      <th>Low</th>\n",
       "      <th>Close</th>\n",
       "      <th>Adj Close</th>\n",
       "      <th>Volume</th>\n",
       "    </tr>\n",
       "    <tr>\n",
       "      <th>Date</th>\n",
       "      <th></th>\n",
       "      <th></th>\n",
       "      <th></th>\n",
       "      <th></th>\n",
       "      <th></th>\n",
       "      <th></th>\n",
       "    </tr>\n",
       "  </thead>\n",
       "  <tbody>\n",
       "    <tr>\n",
       "      <td>2019-05-06</td>\n",
       "      <td>2984.727051</td>\n",
       "      <td>2986.540039</td>\n",
       "      <td>2876.468994</td>\n",
       "      <td>2906.464111</td>\n",
       "      <td>2906.464111</td>\n",
       "      <td>327000.0</td>\n",
       "    </tr>\n",
       "    <tr>\n",
       "      <td>2019-05-07</td>\n",
       "      <td>2914.291016</td>\n",
       "      <td>2937.282959</td>\n",
       "      <td>2889.072998</td>\n",
       "      <td>2926.391113</td>\n",
       "      <td>2926.391113</td>\n",
       "      <td>253300.0</td>\n",
       "    </tr>\n",
       "    <tr>\n",
       "      <td>2019-05-08</td>\n",
       "      <td>2873.143066</td>\n",
       "      <td>2929.430908</td>\n",
       "      <td>2866.704102</td>\n",
       "      <td>2893.757080</td>\n",
       "      <td>2893.757080</td>\n",
       "      <td>231500.0</td>\n",
       "    </tr>\n",
       "    <tr>\n",
       "      <td>2019-05-09</td>\n",
       "      <td>2871.197021</td>\n",
       "      <td>2888.860107</td>\n",
       "      <td>2845.037109</td>\n",
       "      <td>2850.954102</td>\n",
       "      <td>2850.954102</td>\n",
       "      <td>200000.0</td>\n",
       "    </tr>\n",
       "    <tr>\n",
       "      <td>2019-05-10</td>\n",
       "      <td>2878.233887</td>\n",
       "      <td>2941.454102</td>\n",
       "      <td>2838.385010</td>\n",
       "      <td>2939.210938</td>\n",
       "      <td>2939.210938</td>\n",
       "      <td>282300.0</td>\n",
       "    </tr>\n",
       "    <tr>\n",
       "      <td>...</td>\n",
       "      <td>...</td>\n",
       "      <td>...</td>\n",
       "      <td>...</td>\n",
       "      <td>...</td>\n",
       "      <td>...</td>\n",
       "      <td>...</td>\n",
       "    </tr>\n",
       "    <tr>\n",
       "      <td>2020-04-24</td>\n",
       "      <td>2834.938965</td>\n",
       "      <td>2834.938965</td>\n",
       "      <td>2802.499023</td>\n",
       "      <td>2808.529053</td>\n",
       "      <td>2808.529053</td>\n",
       "      <td>235200.0</td>\n",
       "    </tr>\n",
       "    <tr>\n",
       "      <td>2020-04-27</td>\n",
       "      <td>2812.241943</td>\n",
       "      <td>2832.666016</td>\n",
       "      <td>2802.958008</td>\n",
       "      <td>2815.495117</td>\n",
       "      <td>2815.495117</td>\n",
       "      <td>210100.0</td>\n",
       "    </tr>\n",
       "    <tr>\n",
       "      <td>2020-04-28</td>\n",
       "      <td>2819.990967</td>\n",
       "      <td>2821.745117</td>\n",
       "      <td>2758.246094</td>\n",
       "      <td>2810.023926</td>\n",
       "      <td>2810.023926</td>\n",
       "      <td>253900.0</td>\n",
       "    </tr>\n",
       "    <tr>\n",
       "      <td>2020-04-29</td>\n",
       "      <td>2801.383057</td>\n",
       "      <td>2831.763916</td>\n",
       "      <td>2800.738037</td>\n",
       "      <td>2822.441895</td>\n",
       "      <td>2822.441895</td>\n",
       "      <td>202100.0</td>\n",
       "    </tr>\n",
       "    <tr>\n",
       "      <td>2020-04-30</td>\n",
       "      <td>2832.384033</td>\n",
       "      <td>2865.590088</td>\n",
       "      <td>2832.384033</td>\n",
       "      <td>2860.082031</td>\n",
       "      <td>2860.082031</td>\n",
       "      <td>242500.0</td>\n",
       "    </tr>\n",
       "  </tbody>\n",
       "</table>\n",
       "<p>243 rows × 6 columns</p>\n",
       "</div>"
      ],
      "text/plain": [
       "                   Open         High          Low        Close    Adj Close  \\\n",
       "Date                                                                          \n",
       "2019-05-06  2984.727051  2986.540039  2876.468994  2906.464111  2906.464111   \n",
       "2019-05-07  2914.291016  2937.282959  2889.072998  2926.391113  2926.391113   \n",
       "2019-05-08  2873.143066  2929.430908  2866.704102  2893.757080  2893.757080   \n",
       "2019-05-09  2871.197021  2888.860107  2845.037109  2850.954102  2850.954102   \n",
       "2019-05-10  2878.233887  2941.454102  2838.385010  2939.210938  2939.210938   \n",
       "...                 ...          ...          ...          ...          ...   \n",
       "2020-04-24  2834.938965  2834.938965  2802.499023  2808.529053  2808.529053   \n",
       "2020-04-27  2812.241943  2832.666016  2802.958008  2815.495117  2815.495117   \n",
       "2020-04-28  2819.990967  2821.745117  2758.246094  2810.023926  2810.023926   \n",
       "2020-04-29  2801.383057  2831.763916  2800.738037  2822.441895  2822.441895   \n",
       "2020-04-30  2832.384033  2865.590088  2832.384033  2860.082031  2860.082031   \n",
       "\n",
       "              Volume  \n",
       "Date                  \n",
       "2019-05-06  327000.0  \n",
       "2019-05-07  253300.0  \n",
       "2019-05-08  231500.0  \n",
       "2019-05-09  200000.0  \n",
       "2019-05-10  282300.0  \n",
       "...              ...  \n",
       "2020-04-24  235200.0  \n",
       "2020-04-27  210100.0  \n",
       "2020-04-28  253900.0  \n",
       "2020-04-29  202100.0  \n",
       "2020-04-30  242500.0  \n",
       "\n",
       "[243 rows x 6 columns]"
      ]
     },
     "execution_count": 112,
     "metadata": {},
     "output_type": "execute_result"
    }
   ],
   "source": [
    "Clean_SSE_data.dropna()"
   ]
  },
  {
   "cell_type": "code",
   "execution_count": 113,
   "metadata": {},
   "outputs": [
    {
     "data": {
      "text/html": [
       "<div>\n",
       "<style scoped>\n",
       "    .dataframe tbody tr th:only-of-type {\n",
       "        vertical-align: middle;\n",
       "    }\n",
       "\n",
       "    .dataframe tbody tr th {\n",
       "        vertical-align: top;\n",
       "    }\n",
       "\n",
       "    .dataframe thead th {\n",
       "        text-align: right;\n",
       "    }\n",
       "</style>\n",
       "<table border=\"1\" class=\"dataframe\">\n",
       "  <thead>\n",
       "    <tr style=\"text-align: right;\">\n",
       "      <th></th>\n",
       "      <th>Date</th>\n",
       "      <th>Open</th>\n",
       "      <th>High</th>\n",
       "      <th>Low</th>\n",
       "      <th>Close</th>\n",
       "      <th>Adj Close</th>\n",
       "      <th>Volume</th>\n",
       "    </tr>\n",
       "  </thead>\n",
       "  <tbody>\n",
       "    <tr>\n",
       "      <td>0</td>\n",
       "      <td>2019-05-06</td>\n",
       "      <td>2984.727051</td>\n",
       "      <td>2986.540039</td>\n",
       "      <td>2876.468994</td>\n",
       "      <td>2906.464111</td>\n",
       "      <td>2906.464111</td>\n",
       "      <td>327000.0</td>\n",
       "    </tr>\n",
       "    <tr>\n",
       "      <td>1</td>\n",
       "      <td>2019-05-07</td>\n",
       "      <td>2914.291016</td>\n",
       "      <td>2937.282959</td>\n",
       "      <td>2889.072998</td>\n",
       "      <td>2926.391113</td>\n",
       "      <td>2926.391113</td>\n",
       "      <td>253300.0</td>\n",
       "    </tr>\n",
       "    <tr>\n",
       "      <td>2</td>\n",
       "      <td>2019-05-08</td>\n",
       "      <td>2873.143066</td>\n",
       "      <td>2929.430908</td>\n",
       "      <td>2866.704102</td>\n",
       "      <td>2893.757080</td>\n",
       "      <td>2893.757080</td>\n",
       "      <td>231500.0</td>\n",
       "    </tr>\n",
       "    <tr>\n",
       "      <td>3</td>\n",
       "      <td>2019-05-09</td>\n",
       "      <td>2871.197021</td>\n",
       "      <td>2888.860107</td>\n",
       "      <td>2845.037109</td>\n",
       "      <td>2850.954102</td>\n",
       "      <td>2850.954102</td>\n",
       "      <td>200000.0</td>\n",
       "    </tr>\n",
       "    <tr>\n",
       "      <td>4</td>\n",
       "      <td>2019-05-10</td>\n",
       "      <td>2878.233887</td>\n",
       "      <td>2941.454102</td>\n",
       "      <td>2838.385010</td>\n",
       "      <td>2939.210938</td>\n",
       "      <td>2939.210938</td>\n",
       "      <td>282300.0</td>\n",
       "    </tr>\n",
       "  </tbody>\n",
       "</table>\n",
       "</div>"
      ],
      "text/plain": [
       "         Date         Open         High          Low        Close  \\\n",
       "0  2019-05-06  2984.727051  2986.540039  2876.468994  2906.464111   \n",
       "1  2019-05-07  2914.291016  2937.282959  2889.072998  2926.391113   \n",
       "2  2019-05-08  2873.143066  2929.430908  2866.704102  2893.757080   \n",
       "3  2019-05-09  2871.197021  2888.860107  2845.037109  2850.954102   \n",
       "4  2019-05-10  2878.233887  2941.454102  2838.385010  2939.210938   \n",
       "\n",
       "     Adj Close    Volume  \n",
       "0  2906.464111  327000.0  \n",
       "1  2926.391113  253300.0  \n",
       "2  2893.757080  231500.0  \n",
       "3  2850.954102  200000.0  \n",
       "4  2939.210938  282300.0  "
      ]
     },
     "execution_count": 113,
     "metadata": {},
     "output_type": "execute_result"
    }
   ],
   "source": [
    "SSE_df = pd.read_csv(Clean_SSE_data_csv)\n",
    "SSE_df.head()"
   ]
  },
  {
   "cell_type": "code",
   "execution_count": 114,
   "metadata": {},
   "outputs": [
    {
     "data": {
      "text/plain": [
       "<seaborn.axisgrid.FacetGrid at 0x1a19d126d0>"
      ]
     },
     "execution_count": 114,
     "metadata": {},
     "output_type": "execute_result"
    },
    {
     "data": {
      "image/png": "[encoded data removed]",
      "text/plain": [
       "<Figure size 1080x360 with 1 Axes>"
      ]
     },
     "metadata": {
      "needs_background": "light"
     },
     "output_type": "display_data"
    }
   ],
   "source": [
    "import seaborn as sns\n",
    "sns.lmplot(x='High', y='Low', data=SSE_df, aspect=3, fit_reg=True)"
   ]
  },
  {
   "cell_type": "code",
   "execution_count": 116,
   "metadata": {},
   "outputs": [
    {
     "data": {
      "text/html": [
       "<div>\n",
       "<style scoped>\n",
       "    .dataframe tbody tr th:only-of-type {\n",
       "        vertical-align: middle;\n",
       "    }\n",
       "\n",
       "    .dataframe tbody tr th {\n",
       "        vertical-align: top;\n",
       "    }\n",
       "\n",
       "    .dataframe thead th {\n",
       "        text-align: right;\n",
       "    }\n",
       "</style>\n",
       "<table border=\"1\" class=\"dataframe\">\n",
       "  <thead>\n",
       "    <tr style=\"text-align: right;\">\n",
       "      <th></th>\n",
       "      <th>Date</th>\n",
       "      <th>Adj Close</th>\n",
       "    </tr>\n",
       "  </thead>\n",
       "  <tbody>\n",
       "    <tr>\n",
       "      <td>0</td>\n",
       "      <td>2019-05-06</td>\n",
       "      <td>2906.464111</td>\n",
       "    </tr>\n",
       "    <tr>\n",
       "      <td>1</td>\n",
       "      <td>2019-05-07</td>\n",
       "      <td>2926.391113</td>\n",
       "    </tr>\n",
       "    <tr>\n",
       "      <td>2</td>\n",
       "      <td>2019-05-08</td>\n",
       "      <td>2893.757080</td>\n",
       "    </tr>\n",
       "    <tr>\n",
       "      <td>3</td>\n",
       "      <td>2019-05-09</td>\n",
       "      <td>2850.954102</td>\n",
       "    </tr>\n",
       "    <tr>\n",
       "      <td>4</td>\n",
       "      <td>2019-05-10</td>\n",
       "      <td>2939.210938</td>\n",
       "    </tr>\n",
       "  </tbody>\n",
       "</table>\n",
       "</div>"
      ],
      "text/plain": [
       "         Date    Adj Close\n",
       "0  2019-05-06  2906.464111\n",
       "1  2019-05-07  2926.391113\n",
       "2  2019-05-08  2893.757080\n",
       "3  2019-05-09  2850.954102\n",
       "4  2019-05-10  2939.210938"
      ]
     },
     "execution_count": 116,
     "metadata": {},
     "output_type": "execute_result"
    }
   ],
   "source": [
    "SSE_df.drop(columns=['Volume', 'Open', 'High', 'Low', 'Close'], inplace=True)\n",
    "SSE_df.head()"
   ]
  },
  {
   "cell_type": "code",
   "execution_count": 122,
   "metadata": {},
   "outputs": [
    {
     "data": {
      "text/html": [
       "<div>\n",
       "<style scoped>\n",
       "    .dataframe tbody tr th:only-of-type {\n",
       "        vertical-align: middle;\n",
       "    }\n",
       "\n",
       "    .dataframe tbody tr th {\n",
       "        vertical-align: top;\n",
       "    }\n",
       "\n",
       "    .dataframe thead th {\n",
       "        text-align: right;\n",
       "    }\n",
       "</style>\n",
       "<table border=\"1\" class=\"dataframe\">\n",
       "  <thead>\n",
       "    <tr style=\"text-align: right;\">\n",
       "      <th></th>\n",
       "      <th>Date</th>\n",
       "      <th>Adj Close</th>\n",
       "    </tr>\n",
       "    <tr>\n",
       "      <th>Date</th>\n",
       "      <th></th>\n",
       "      <th></th>\n",
       "    </tr>\n",
       "  </thead>\n",
       "  <tbody>\n",
       "    <tr>\n",
       "      <td>2019-05-06</td>\n",
       "      <td>2019-05-06</td>\n",
       "      <td>2906.464111</td>\n",
       "    </tr>\n",
       "    <tr>\n",
       "      <td>2019-05-07</td>\n",
       "      <td>2019-05-07</td>\n",
       "      <td>2926.391113</td>\n",
       "    </tr>\n",
       "    <tr>\n",
       "      <td>2019-05-08</td>\n",
       "      <td>2019-05-08</td>\n",
       "      <td>2893.757080</td>\n",
       "    </tr>\n",
       "    <tr>\n",
       "      <td>2019-05-09</td>\n",
       "      <td>2019-05-09</td>\n",
       "      <td>2850.954102</td>\n",
       "    </tr>\n",
       "    <tr>\n",
       "      <td>2019-05-10</td>\n",
       "      <td>2019-05-10</td>\n",
       "      <td>2939.210938</td>\n",
       "    </tr>\n",
       "  </tbody>\n",
       "</table>\n",
       "</div>"
      ],
      "text/plain": [
       "                  Date    Adj Close\n",
       "Date                               \n",
       "2019-05-06  2019-05-06  2906.464111\n",
       "2019-05-07  2019-05-07  2926.391113\n",
       "2019-05-08  2019-05-08  2893.757080\n",
       "2019-05-09  2019-05-09  2850.954102\n",
       "2019-05-10  2019-05-10  2939.210938"
      ]
     },
     "execution_count": 122,
     "metadata": {},
     "output_type": "execute_result"
    }
   ],
   "source": [
    "SSE_df.set_index(pd.to_datetime(SSE_df['Date'], infer_datetime_format=True), inplace=True)\n",
    "SSE_df.head()"
   ]
  },
  {
   "cell_type": "code",
   "execution_count": 123,
   "metadata": {},
   "outputs": [
    {
     "data": {
      "text/html": [
       "<div>\n",
       "<style scoped>\n",
       "    .dataframe tbody tr th:only-of-type {\n",
       "        vertical-align: middle;\n",
       "    }\n",
       "\n",
       "    .dataframe tbody tr th {\n",
       "        vertical-align: top;\n",
       "    }\n",
       "\n",
       "    .dataframe thead th {\n",
       "        text-align: right;\n",
       "    }\n",
       "</style>\n",
       "<table border=\"1\" class=\"dataframe\">\n",
       "  <thead>\n",
       "    <tr style=\"text-align: right;\">\n",
       "      <th></th>\n",
       "      <th>Adj Close</th>\n",
       "    </tr>\n",
       "    <tr>\n",
       "      <th>Date</th>\n",
       "      <th></th>\n",
       "    </tr>\n",
       "  </thead>\n",
       "  <tbody>\n",
       "    <tr>\n",
       "      <td>2019-05-06</td>\n",
       "      <td>2906.464111</td>\n",
       "    </tr>\n",
       "    <tr>\n",
       "      <td>2019-05-07</td>\n",
       "      <td>2926.391113</td>\n",
       "    </tr>\n",
       "    <tr>\n",
       "      <td>2019-05-08</td>\n",
       "      <td>2893.757080</td>\n",
       "    </tr>\n",
       "    <tr>\n",
       "      <td>2019-05-09</td>\n",
       "      <td>2850.954102</td>\n",
       "    </tr>\n",
       "    <tr>\n",
       "      <td>2019-05-10</td>\n",
       "      <td>2939.210938</td>\n",
       "    </tr>\n",
       "  </tbody>\n",
       "</table>\n",
       "</div>"
      ],
      "text/plain": [
       "              Adj Close\n",
       "Date                   \n",
       "2019-05-06  2906.464111\n",
       "2019-05-07  2926.391113\n",
       "2019-05-08  2893.757080\n",
       "2019-05-09  2850.954102\n",
       "2019-05-10  2939.210938"
      ]
     },
     "execution_count": 123,
     "metadata": {},
     "output_type": "execute_result"
    }
   ],
   "source": [
    "SSE_df.drop(columns=['Date'], inplace=True)\n",
    "SSE_df.head()"
   ]
  },
  {
   "cell_type": "code",
   "execution_count": 124,
   "metadata": {},
   "outputs": [
    {
     "name": "stdout",
     "output_type": "stream",
     "text": [
      "              Adj Close\n",
      "Date                   \n",
      "2019-12-31  3050.124023\n",
      "2020-01-02  3085.197998\n",
      "2020-01-03  3083.785889\n",
      "2020-01-06  3083.407959\n",
      "2020-01-07  3104.802002\n",
      "...                 ...\n",
      "2020-04-24  2808.529053\n",
      "2020-04-27  2815.495117\n",
      "2020-04-28  2810.023926\n",
      "2020-04-29  2822.441895\n",
      "2020-04-30  2860.082031\n",
      "\n",
      "[80 rows x 1 columns]\n"
     ]
    }
   ],
   "source": [
    "SSE_df_2020 = SSE_df.tail(80)\n",
    "print(SSE_df_2020)"
   ]
  },
  {
   "cell_type": "code",
   "execution_count": 126,
   "metadata": {},
   "outputs": [
    {
     "data": {
      "text/plain": [
       "<matplotlib.axes._subplots.AxesSubplot at 0x1a1a8f7d90>"
      ]
     },
     "execution_count": 126,
     "metadata": {},
     "output_type": "execute_result"
    },
    {
     "data": {
      "image/png": "[encoded data removed]",
      "text/plain": [
       "<Figure size 1440x720 with 1 Axes>"
      ]
     },
     "metadata": {
      "needs_background": "light"
     },
     "output_type": "display_data"
    }
   ],
   "source": [
    "SSE_df_2020.rolling(window=14).std().plot(figsize=(20, 10), title=\"5 Day Rolling Standard Deviation\")"
   ]
  },
  {
   "cell_type": "code",
   "execution_count": 127,
   "metadata": {},
   "outputs": [
    {
     "data": {
      "text/plain": [
       "<matplotlib.axes._subplots.AxesSubplot at 0x1a1abecb10>"
      ]
     },
     "execution_count": 127,
     "metadata": {},
     "output_type": "execute_result"
    },
    {
     "data": {
      "image/png": "[encoded data removed]",
      "text/plain": [
       "<Figure size 432x288 with 1 Axes>"
      ]
     },
     "metadata": {
      "needs_background": "light"
     },
     "output_type": "display_data"
    }
   ],
   "source": [
    "SSE_df_2020.plot(title=\"SSE Index Adj Close\")\n"
   ]
  },
  {
   "cell_type": "code",
   "execution_count": null,
   "metadata": {},
   "outputs": [],
   "source": [
    "\n"
   ]
  },
  {
   "cell_type": "code",
   "execution_count": null,
   "metadata": {},
   "outputs": [],
   "source": []
  },
  {
   "cell_type": "code",
   "execution_count": null,
   "metadata": {},
   "outputs": [],
   "source": []
  },
  {
   "cell_type": "code",
   "execution_count": null,
   "metadata": {},
   "outputs": [],
   "source": []
  },
  {
   "cell_type": "code",
   "execution_count": null,
   "metadata": {},
   "outputs": [],
   "source": []
  },
  {
   "cell_type": "code",
   "execution_count": null,
   "metadata": {},
   "outputs": [],
   "source": []
  },
  {
   "cell_type": "code",
   "execution_count": null,
   "metadata": {},
   "outputs": [],
   "source": []
  },
  {
   "cell_type": "code",
   "execution_count": null,
   "metadata": {},
   "outputs": [],
   "source": []
  }
 ],
 "metadata": {
  "kernelspec": {
   "display_name": "Python 3",
   "language": "python",
   "name": "python3"
  },
  "language_info": {
   "codemirror_mode": {
    "name": "ipython",
    "version": 3
   },
   "file_extension": ".py",
   "mimetype": "text/x-python",
   "name": "python",
   "nbconvert_exporter": "python",
   "pygments_lexer": "ipython3",
   "version": "3.7.4"
  }
 },
 "nbformat": 4,
 "nbformat_minor": 4
}
